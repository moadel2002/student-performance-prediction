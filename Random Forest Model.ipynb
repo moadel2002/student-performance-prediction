{
 "cells": [
  {
   "cell_type": "markdown",
   "metadata": {
    "id": "QjyKgATB65Bv"
   },
   "source": [
    "## Imports"
   ]
  },
  {
   "cell_type": "code",
   "execution_count": 1,
   "metadata": {
    "id": "zV729ZkKX_er"
   },
   "outputs": [],
   "source": [
    "#dataframe handling\n",
    "import pandas as pd\n",
    "import numpy as np\n",
    "\n",
    "#counting g and w for ADASYN check\n",
    "from collections import Counter\n",
    "\n",
    "#for SMOTE oversampling method\n",
    "from imblearn.over_sampling import SMOTE\n",
    "\n",
    "#for adasyn oversampling method\n",
    "from imblearn.over_sampling import ADASYN\n",
    "\n",
    "#for splitting data\n",
    "from sklearn.model_selection import train_test_split\n",
    "\n",
    "#import model RF\n",
    "from sklearn.ensemble import RandomForestClassifier\n",
    "\n",
    "#for grid search\n",
    "from sklearn.model_selection import GridSearchCV\n",
    "\n",
    "# grid search  accuracy scoring\n",
    "from sklearn.metrics import accuracy_score\n",
    "\n",
    "# for checking accuracy\n",
    "from sklearn import metrics\n",
    "\n",
    "#for confusion matrics\n",
    "from sklearn.metrics import confusion_matrix"
   ]
  },
  {
   "cell_type": "code",
   "execution_count": 2,
   "metadata": {
    "colab": {
     "base_uri": "https://localhost:8080/",
     "height": 195
    },
    "id": "mxOhzT3TYZ0v",
    "outputId": "3e1e282c-8128-493a-d46d-abfb38e13e5c"
   },
   "outputs": [
    {
     "data": {
      "text/html": [
       "<div>\n",
       "<style scoped>\n",
       "    .dataframe tbody tr th:only-of-type {\n",
       "        vertical-align: middle;\n",
       "    }\n",
       "\n",
       "    .dataframe tbody tr th {\n",
       "        vertical-align: top;\n",
       "    }\n",
       "\n",
       "    .dataframe thead th {\n",
       "        text-align: right;\n",
       "    }\n",
       "</style>\n",
       "<table border=\"1\" class=\"dataframe\">\n",
       "  <thead>\n",
       "    <tr style=\"text-align: right;\">\n",
       "      <th></th>\n",
       "      <th>Quiz01 [10]</th>\n",
       "      <th>Assignment01 [8]</th>\n",
       "      <th>Midterm Exam [20]</th>\n",
       "      <th>Assignment02 [12]</th>\n",
       "      <th>Assignment03 [25]</th>\n",
       "      <th>Final Exam [35]</th>\n",
       "      <th>Course Grade</th>\n",
       "      <th>Class</th>\n",
       "    </tr>\n",
       "  </thead>\n",
       "  <tbody>\n",
       "    <tr>\n",
       "      <th>0</th>\n",
       "      <td>95</td>\n",
       "      <td>91</td>\n",
       "      <td>70</td>\n",
       "      <td>90</td>\n",
       "      <td>84</td>\n",
       "      <td>64</td>\n",
       "      <td>85</td>\n",
       "      <td>G</td>\n",
       "    </tr>\n",
       "    <tr>\n",
       "      <th>1</th>\n",
       "      <td>85</td>\n",
       "      <td>76</td>\n",
       "      <td>65</td>\n",
       "      <td>61</td>\n",
       "      <td>73</td>\n",
       "      <td>64</td>\n",
       "      <td>76</td>\n",
       "      <td>G</td>\n",
       "    </tr>\n",
       "    <tr>\n",
       "      <th>2</th>\n",
       "      <td>85</td>\n",
       "      <td>41</td>\n",
       "      <td>73</td>\n",
       "      <td>61</td>\n",
       "      <td>73</td>\n",
       "      <td>61</td>\n",
       "      <td>73</td>\n",
       "      <td>G</td>\n",
       "    </tr>\n",
       "    <tr>\n",
       "      <th>3</th>\n",
       "      <td>80</td>\n",
       "      <td>78</td>\n",
       "      <td>80</td>\n",
       "      <td>79</td>\n",
       "      <td>79</td>\n",
       "      <td>57</td>\n",
       "      <td>80</td>\n",
       "      <td>G</td>\n",
       "    </tr>\n",
       "    <tr>\n",
       "      <th>4</th>\n",
       "      <td>85</td>\n",
       "      <td>91</td>\n",
       "      <td>78</td>\n",
       "      <td>80</td>\n",
       "      <td>84</td>\n",
       "      <td>67</td>\n",
       "      <td>85</td>\n",
       "      <td>G</td>\n",
       "    </tr>\n",
       "  </tbody>\n",
       "</table>\n",
       "</div>"
      ],
      "text/plain": [
       "   Quiz01 [10]  Assignment01 [8]  Midterm Exam [20]  Assignment02 [12]  \\\n",
       "0           95                91                 70                 90   \n",
       "1           85                76                 65                 61   \n",
       "2           85                41                 73                 61   \n",
       "3           80                78                 80                 79   \n",
       "4           85                91                 78                 80   \n",
       "\n",
       "   Assignment03 [25]  Final Exam [35]  Course Grade Class  \n",
       "0                 84               64            85     G  \n",
       "1                 73               64            76     G  \n",
       "2                 73               61            73     G  \n",
       "3                 79               57            80     G  \n",
       "4                 84               67            85     G  "
      ]
     },
     "execution_count": 2,
     "metadata": {},
     "output_type": "execute_result"
    }
   ],
   "source": [
    "#Reading the dataframe\n",
    "df = pd.read_csv(\"Student Performance Prediction-Binary.csv\")\n",
    "df = df.drop([\"Total [100]\",\"Student ID\"], axis = 1)\n",
    "df.head()"
   ]
  },
  {
   "cell_type": "code",
   "execution_count": 3,
   "metadata": {
    "id": "ZbOX9LcTYzan"
   },
   "outputs": [],
   "source": [
    "# Assigning the features and target variables\n",
    "X = df.iloc[:,:-1]\n",
    "Y = df.iloc[:,-1]"
   ]
  },
  {
   "cell_type": "code",
   "execution_count": 4,
   "metadata": {
    "id": "HSQdlpkrA2pM"
   },
   "outputs": [],
   "source": [
    "#remove warning\n",
    "pd.options.mode.chained_assignment = None  # default='warn'\n",
    "\n",
    "#encoding??\n",
    "for i in range(len(Y)):\n",
    "\n",
    "    if Y[i] == 'G':\n",
    "\n",
    "        Y[i] = 1\n",
    "\n",
    "    else:\n",
    "\n",
    "        Y[i] = 0\n",
    "\n",
    "Y = Y.astype('int')"
   ]
  },
  {
   "cell_type": "markdown",
   "metadata": {
    "id": "AVoKOm2U65B3"
   },
   "source": [
    "# Oversampling using SMOTE"
   ]
  },
  {
   "cell_type": "code",
   "execution_count": 5,
   "metadata": {
    "colab": {
     "base_uri": "https://localhost:8080/"
    },
    "id": "RGxn6O1x65B3",
    "outputId": "d4a1c69e-5fe6-4ffe-f006-d356a5100160"
   },
   "outputs": [
    {
     "data": {
      "text/plain": [
       "Counter({1: 465, 0: 465})"
      ]
     },
     "execution_count": 5,
     "metadata": {},
     "output_type": "execute_result"
    }
   ],
   "source": [
    "smote = SMOTE()\n",
    "X_S,Y_S = smote.fit_resample(X, Y)\n",
    "counter= Counter (Y_S)\n",
    "counter"
   ]
  },
  {
   "cell_type": "markdown",
   "metadata": {},
   "source": [
    "### Modelling 20% of the data"
   ]
  },
  {
   "cell_type": "code",
   "execution_count": 6,
   "metadata": {
    "colab": {
     "base_uri": "https://localhost:8080/",
     "height": 402
    },
    "id": "pKNn_vSm8y-A",
    "outputId": "b466deb5-0580-4681-96a0-6b55c2bf0993"
   },
   "outputs": [
    {
     "data": {
      "text/html": [
       "<div>\n",
       "<style scoped>\n",
       "    .dataframe tbody tr th:only-of-type {\n",
       "        vertical-align: middle;\n",
       "    }\n",
       "\n",
       "    .dataframe tbody tr th {\n",
       "        vertical-align: top;\n",
       "    }\n",
       "\n",
       "    .dataframe thead th {\n",
       "        text-align: right;\n",
       "    }\n",
       "</style>\n",
       "<table border=\"1\" class=\"dataframe\">\n",
       "  <thead>\n",
       "    <tr style=\"text-align: right;\">\n",
       "      <th></th>\n",
       "      <th>Quiz01 [10]</th>\n",
       "      <th>Assignment01 [8]</th>\n",
       "    </tr>\n",
       "  </thead>\n",
       "  <tbody>\n",
       "    <tr>\n",
       "      <th>0</th>\n",
       "      <td>95</td>\n",
       "      <td>91</td>\n",
       "    </tr>\n",
       "    <tr>\n",
       "      <th>1</th>\n",
       "      <td>85</td>\n",
       "      <td>76</td>\n",
       "    </tr>\n",
       "    <tr>\n",
       "      <th>2</th>\n",
       "      <td>85</td>\n",
       "      <td>41</td>\n",
       "    </tr>\n",
       "    <tr>\n",
       "      <th>3</th>\n",
       "      <td>80</td>\n",
       "      <td>78</td>\n",
       "    </tr>\n",
       "    <tr>\n",
       "      <th>4</th>\n",
       "      <td>85</td>\n",
       "      <td>91</td>\n",
       "    </tr>\n",
       "    <tr>\n",
       "      <th>...</th>\n",
       "      <td>...</td>\n",
       "      <td>...</td>\n",
       "    </tr>\n",
       "    <tr>\n",
       "      <th>925</th>\n",
       "      <td>59</td>\n",
       "      <td>64</td>\n",
       "    </tr>\n",
       "    <tr>\n",
       "      <th>926</th>\n",
       "      <td>0</td>\n",
       "      <td>36</td>\n",
       "    </tr>\n",
       "    <tr>\n",
       "      <th>927</th>\n",
       "      <td>83</td>\n",
       "      <td>62</td>\n",
       "    </tr>\n",
       "    <tr>\n",
       "      <th>928</th>\n",
       "      <td>79</td>\n",
       "      <td>53</td>\n",
       "    </tr>\n",
       "    <tr>\n",
       "      <th>929</th>\n",
       "      <td>70</td>\n",
       "      <td>0</td>\n",
       "    </tr>\n",
       "  </tbody>\n",
       "</table>\n",
       "<p>930 rows × 2 columns</p>\n",
       "</div>"
      ],
      "text/plain": [
       "     Quiz01 [10]  Assignment01 [8]\n",
       "0             95                91\n",
       "1             85                76\n",
       "2             85                41\n",
       "3             80                78\n",
       "4             85                91\n",
       "..           ...               ...\n",
       "925           59                64\n",
       "926            0                36\n",
       "927           83                62\n",
       "928           79                53\n",
       "929           70                 0\n",
       "\n",
       "[930 rows x 2 columns]"
      ]
     },
     "execution_count": 6,
     "metadata": {},
     "output_type": "execute_result"
    }
   ],
   "source": [
    "X_S_20 = X_S.iloc[:,:2]\n",
    "X_S_20"
   ]
  },
  {
   "cell_type": "code",
   "execution_count": 7,
   "metadata": {
    "id": "J_d4kZhjox5p"
   },
   "outputs": [],
   "source": [
    "# Split dataset into training set and test set\n",
    "x_train, x_test, y_train, y_test = train_test_split(X_S_20,Y_S, test_size=0.2,random_state=100)"
   ]
  },
  {
   "cell_type": "code",
   "execution_count": 8,
   "metadata": {
    "id": "1MIMpBZI65B5"
   },
   "outputs": [],
   "source": [
    "#random forest classifier and defining the max features (mtry) using params\n",
    "classifier = RandomForestClassifier()\n",
    "params = {'max_features':[i for i in range(1,3)]}"
   ]
  },
  {
   "cell_type": "code",
   "execution_count": 9,
   "metadata": {
    "colab": {
     "base_uri": "https://localhost:8080/"
    },
    "id": "Bxp4rpkAx97h",
    "outputId": "38cd60a8-8556-4263-b43f-895f4a9b0947"
   },
   "outputs": [
    {
     "name": "stdout",
     "output_type": "stream",
     "text": [
      "Fitting 3 folds for each of 2 candidates, totalling 6 fits\n"
     ]
    }
   ],
   "source": [
    "#first grid using percision\n",
    "grid = GridSearchCV(classifier, params, cv=3, scoring= \"accuracy\", return_train_score=True,verbose=1)\n",
    "grid_search1 = grid.fit(x_train,y_train)"
   ]
  },
  {
   "cell_type": "code",
   "execution_count": 10,
   "metadata": {
    "colab": {
     "base_uri": "https://localhost:8080/"
    },
    "id": "Ua_R7XkHEsba",
    "outputId": "12e65c4a-9eb5-406f-b254-1a97cc0d073e"
   },
   "outputs": [
    {
     "name": "stdout",
     "output_type": "stream",
     "text": [
      "0.9260752688172044\n",
      "{'max_features': 1}\n"
     ]
    }
   ],
   "source": [
    "print(grid.best_score_)\n",
    "print(grid.best_params_)"
   ]
  },
  {
   "cell_type": "code",
   "execution_count": 11,
   "metadata": {
    "colab": {
     "base_uri": "https://localhost:8080/"
    },
    "id": "EuD6b9ivFuX7",
    "outputId": "b60536d2-ee2b-4bd5-a7b1-034ae0267eec"
   },
   "outputs": [
    {
     "data": {
      "text/plain": [
       "0.9408602150537635"
      ]
     },
     "execution_count": 11,
     "metadata": {},
     "output_type": "execute_result"
    }
   ],
   "source": [
    "y_pred = grid.predict(x_test)\n",
    "accuracy_score(y_test,y_pred)"
   ]
  },
  {
   "cell_type": "code",
   "execution_count": 12,
   "metadata": {},
   "outputs": [
    {
     "name": "stdout",
     "output_type": "stream",
     "text": [
      "[[84  6]\n",
      " [ 5 91]]\n"
     ]
    }
   ],
   "source": [
    "con_matrx = confusion_matrix(y_test, y_pred)\n",
    "print(con_matrx)"
   ]
  },
  {
   "cell_type": "markdown",
   "metadata": {},
   "source": [
    "### Modelling 50% of the data"
   ]
  },
  {
   "cell_type": "code",
   "execution_count": 13,
   "metadata": {
    "colab": {
     "base_uri": "https://localhost:8080/",
     "height": 402
    },
    "id": "xTRr0quk-exW",
    "outputId": "5e6f1d85-018f-41f2-ac4c-48a269d44da3"
   },
   "outputs": [
    {
     "data": {
      "text/html": [
       "<div>\n",
       "<style scoped>\n",
       "    .dataframe tbody tr th:only-of-type {\n",
       "        vertical-align: middle;\n",
       "    }\n",
       "\n",
       "    .dataframe tbody tr th {\n",
       "        vertical-align: top;\n",
       "    }\n",
       "\n",
       "    .dataframe thead th {\n",
       "        text-align: right;\n",
       "    }\n",
       "</style>\n",
       "<table border=\"1\" class=\"dataframe\">\n",
       "  <thead>\n",
       "    <tr style=\"text-align: right;\">\n",
       "      <th></th>\n",
       "      <th>Quiz01 [10]</th>\n",
       "      <th>Assignment01 [8]</th>\n",
       "      <th>Midterm Exam [20]</th>\n",
       "      <th>Assignment02 [12]</th>\n",
       "    </tr>\n",
       "  </thead>\n",
       "  <tbody>\n",
       "    <tr>\n",
       "      <th>0</th>\n",
       "      <td>95</td>\n",
       "      <td>91</td>\n",
       "      <td>70</td>\n",
       "      <td>90</td>\n",
       "    </tr>\n",
       "    <tr>\n",
       "      <th>1</th>\n",
       "      <td>85</td>\n",
       "      <td>76</td>\n",
       "      <td>65</td>\n",
       "      <td>61</td>\n",
       "    </tr>\n",
       "    <tr>\n",
       "      <th>2</th>\n",
       "      <td>85</td>\n",
       "      <td>41</td>\n",
       "      <td>73</td>\n",
       "      <td>61</td>\n",
       "    </tr>\n",
       "    <tr>\n",
       "      <th>3</th>\n",
       "      <td>80</td>\n",
       "      <td>78</td>\n",
       "      <td>80</td>\n",
       "      <td>79</td>\n",
       "    </tr>\n",
       "    <tr>\n",
       "      <th>4</th>\n",
       "      <td>85</td>\n",
       "      <td>91</td>\n",
       "      <td>78</td>\n",
       "      <td>80</td>\n",
       "    </tr>\n",
       "    <tr>\n",
       "      <th>...</th>\n",
       "      <td>...</td>\n",
       "      <td>...</td>\n",
       "      <td>...</td>\n",
       "      <td>...</td>\n",
       "    </tr>\n",
       "    <tr>\n",
       "      <th>925</th>\n",
       "      <td>59</td>\n",
       "      <td>64</td>\n",
       "      <td>55</td>\n",
       "      <td>68</td>\n",
       "    </tr>\n",
       "    <tr>\n",
       "      <th>926</th>\n",
       "      <td>0</td>\n",
       "      <td>36</td>\n",
       "      <td>56</td>\n",
       "      <td>53</td>\n",
       "    </tr>\n",
       "    <tr>\n",
       "      <th>927</th>\n",
       "      <td>83</td>\n",
       "      <td>62</td>\n",
       "      <td>67</td>\n",
       "      <td>24</td>\n",
       "    </tr>\n",
       "    <tr>\n",
       "      <th>928</th>\n",
       "      <td>79</td>\n",
       "      <td>53</td>\n",
       "      <td>51</td>\n",
       "      <td>49</td>\n",
       "    </tr>\n",
       "    <tr>\n",
       "      <th>929</th>\n",
       "      <td>70</td>\n",
       "      <td>0</td>\n",
       "      <td>55</td>\n",
       "      <td>0</td>\n",
       "    </tr>\n",
       "  </tbody>\n",
       "</table>\n",
       "<p>930 rows × 4 columns</p>\n",
       "</div>"
      ],
      "text/plain": [
       "     Quiz01 [10]  Assignment01 [8]  Midterm Exam [20]  Assignment02 [12]\n",
       "0             95                91                 70                 90\n",
       "1             85                76                 65                 61\n",
       "2             85                41                 73                 61\n",
       "3             80                78                 80                 79\n",
       "4             85                91                 78                 80\n",
       "..           ...               ...                ...                ...\n",
       "925           59                64                 55                 68\n",
       "926            0                36                 56                 53\n",
       "927           83                62                 67                 24\n",
       "928           79                53                 51                 49\n",
       "929           70                 0                 55                  0\n",
       "\n",
       "[930 rows x 4 columns]"
      ]
     },
     "execution_count": 13,
     "metadata": {},
     "output_type": "execute_result"
    }
   ],
   "source": [
    "X_S_50 = X_S.iloc[:,:4]\n",
    "X_S_50"
   ]
  },
  {
   "cell_type": "code",
   "execution_count": 14,
   "metadata": {
    "id": "EEFq_duB-exX"
   },
   "outputs": [],
   "source": [
    "# Split dataset into training set and test set\n",
    "x_train, x_test, y_train, y_test = train_test_split(X_S_50,Y_S, test_size=0.2,random_state=100)"
   ]
  },
  {
   "cell_type": "code",
   "execution_count": 15,
   "metadata": {
    "id": "_0FKL9Bm-exY"
   },
   "outputs": [],
   "source": [
    "#random forest classifier and defining the max features (mtry) using params\n",
    "classifier = RandomForestClassifier()\n",
    "params = {'max_features':[i for i in range(1,5)]}"
   ]
  },
  {
   "cell_type": "code",
   "execution_count": 16,
   "metadata": {
    "colab": {
     "base_uri": "https://localhost:8080/"
    },
    "id": "B3Ygplt4-exY",
    "outputId": "c0ddfbf6-f884-460f-8dec-9bd9166a8527"
   },
   "outputs": [
    {
     "name": "stdout",
     "output_type": "stream",
     "text": [
      "Fitting 3 folds for each of 4 candidates, totalling 12 fits\n"
     ]
    }
   ],
   "source": [
    "grid = GridSearchCV(classifier, params, cv=3, scoring= \"accuracy\", return_train_score=True,verbose=1)\n",
    "grid_search1 = grid.fit(x_train,y_train)"
   ]
  },
  {
   "cell_type": "code",
   "execution_count": 17,
   "metadata": {
    "colab": {
     "base_uri": "https://localhost:8080/"
    },
    "id": "_5JBxFQa-exY",
    "outputId": "63d3ffea-901e-4cf2-d335-d5d48f6d4d91"
   },
   "outputs": [
    {
     "name": "stdout",
     "output_type": "stream",
     "text": [
      "0.989247311827957\n",
      "{'max_features': 1}\n"
     ]
    }
   ],
   "source": [
    "print(grid.best_score_)\n",
    "print(grid.best_params_)"
   ]
  },
  {
   "cell_type": "code",
   "execution_count": 18,
   "metadata": {
    "colab": {
     "base_uri": "https://localhost:8080/"
    },
    "id": "5KhxmW-I-exZ",
    "outputId": "cc9ee4f9-11e8-40e3-ffb6-f003c43239fc"
   },
   "outputs": [
    {
     "data": {
      "text/plain": [
       "0.9731182795698925"
      ]
     },
     "execution_count": 18,
     "metadata": {},
     "output_type": "execute_result"
    }
   ],
   "source": [
    "y_pred = grid.predict(x_test)\n",
    "accuracy_score(y_test,y_pred)"
   ]
  },
  {
   "cell_type": "code",
   "execution_count": 19,
   "metadata": {},
   "outputs": [
    {
     "name": "stdout",
     "output_type": "stream",
     "text": [
      "[[88  2]\n",
      " [ 3 93]]\n"
     ]
    }
   ],
   "source": [
    "con_matrx = confusion_matrix(y_test, y_pred)\n",
    "print(con_matrx)"
   ]
  },
  {
   "cell_type": "markdown",
   "metadata": {
    "id": "0CFZE1Ir-dQB"
   },
   "source": []
  },
  {
   "cell_type": "markdown",
   "metadata": {
    "id": "jckXuZhg65B-"
   },
   "source": [
    "# Oversampling using ADASYN"
   ]
  },
  {
   "cell_type": "code",
   "execution_count": 20,
   "metadata": {
    "colab": {
     "base_uri": "https://localhost:8080/"
    },
    "id": "CXlLyFzv65B-",
    "outputId": "04bed236-7ce4-4ae1-f97d-9d59e87dc83b"
   },
   "outputs": [
    {
     "data": {
      "text/plain": [
       "Counter({1: 465, 0: 462})"
      ]
     },
     "execution_count": 20,
     "metadata": {},
     "output_type": "execute_result"
    }
   ],
   "source": [
    "adasyn= ADASYN()\n",
    "X_A,Y_A= adasyn.fit_resample(X,Y)\n",
    "counter= Counter (Y_A)\n",
    "counter"
   ]
  },
  {
   "cell_type": "markdown",
   "metadata": {},
   "source": [
    "### Modelling 20% of the data"
   ]
  },
  {
   "cell_type": "code",
   "execution_count": 21,
   "metadata": {
    "colab": {
     "base_uri": "https://localhost:8080/",
     "height": 402
    },
    "id": "0-WgHngt-0Yt",
    "outputId": "70345dea-69af-44d3-893f-bcac6aafed1b"
   },
   "outputs": [
    {
     "data": {
      "text/html": [
       "<div>\n",
       "<style scoped>\n",
       "    .dataframe tbody tr th:only-of-type {\n",
       "        vertical-align: middle;\n",
       "    }\n",
       "\n",
       "    .dataframe tbody tr th {\n",
       "        vertical-align: top;\n",
       "    }\n",
       "\n",
       "    .dataframe thead th {\n",
       "        text-align: right;\n",
       "    }\n",
       "</style>\n",
       "<table border=\"1\" class=\"dataframe\">\n",
       "  <thead>\n",
       "    <tr style=\"text-align: right;\">\n",
       "      <th></th>\n",
       "      <th>Quiz01 [10]</th>\n",
       "      <th>Assignment01 [8]</th>\n",
       "    </tr>\n",
       "  </thead>\n",
       "  <tbody>\n",
       "    <tr>\n",
       "      <th>0</th>\n",
       "      <td>95</td>\n",
       "      <td>91</td>\n",
       "    </tr>\n",
       "    <tr>\n",
       "      <th>1</th>\n",
       "      <td>85</td>\n",
       "      <td>76</td>\n",
       "    </tr>\n",
       "    <tr>\n",
       "      <th>2</th>\n",
       "      <td>85</td>\n",
       "      <td>41</td>\n",
       "    </tr>\n",
       "    <tr>\n",
       "      <th>3</th>\n",
       "      <td>80</td>\n",
       "      <td>78</td>\n",
       "    </tr>\n",
       "    <tr>\n",
       "      <th>4</th>\n",
       "      <td>85</td>\n",
       "      <td>91</td>\n",
       "    </tr>\n",
       "    <tr>\n",
       "      <th>...</th>\n",
       "      <td>...</td>\n",
       "      <td>...</td>\n",
       "    </tr>\n",
       "    <tr>\n",
       "      <th>922</th>\n",
       "      <td>81</td>\n",
       "      <td>44</td>\n",
       "    </tr>\n",
       "    <tr>\n",
       "      <th>923</th>\n",
       "      <td>70</td>\n",
       "      <td>58</td>\n",
       "    </tr>\n",
       "    <tr>\n",
       "      <th>924</th>\n",
       "      <td>70</td>\n",
       "      <td>59</td>\n",
       "    </tr>\n",
       "    <tr>\n",
       "      <th>925</th>\n",
       "      <td>83</td>\n",
       "      <td>62</td>\n",
       "    </tr>\n",
       "    <tr>\n",
       "      <th>926</th>\n",
       "      <td>67</td>\n",
       "      <td>35</td>\n",
       "    </tr>\n",
       "  </tbody>\n",
       "</table>\n",
       "<p>927 rows × 2 columns</p>\n",
       "</div>"
      ],
      "text/plain": [
       "     Quiz01 [10]  Assignment01 [8]\n",
       "0             95                91\n",
       "1             85                76\n",
       "2             85                41\n",
       "3             80                78\n",
       "4             85                91\n",
       "..           ...               ...\n",
       "922           81                44\n",
       "923           70                58\n",
       "924           70                59\n",
       "925           83                62\n",
       "926           67                35\n",
       "\n",
       "[927 rows x 2 columns]"
      ]
     },
     "execution_count": 21,
     "metadata": {},
     "output_type": "execute_result"
    }
   ],
   "source": [
    "X_A_20 = X_A.iloc[:,:2]\n",
    "X_A_20"
   ]
  },
  {
   "cell_type": "code",
   "execution_count": 22,
   "metadata": {
    "id": "XqL2a-L9-0Yx"
   },
   "outputs": [],
   "source": [
    "# Split dataset into training set and test set\n",
    "x_train, x_test, y_train, y_test = train_test_split(X_A_20,Y_A, test_size=0.2,random_state=100)"
   ]
  },
  {
   "cell_type": "code",
   "execution_count": 23,
   "metadata": {
    "id": "pOyDQ5XP-0Yx"
   },
   "outputs": [],
   "source": [
    "#random forest classifier and defining the max features (mtry) using params\n",
    "classifier = RandomForestClassifier()\n",
    "params = {'max_features':[i for i in range(1,3)]}"
   ]
  },
  {
   "cell_type": "code",
   "execution_count": 24,
   "metadata": {
    "colab": {
     "base_uri": "https://localhost:8080/"
    },
    "id": "_1_uxeda_AJF",
    "outputId": "b9ddc505-612a-4b19-c706-c0bc91b270da"
   },
   "outputs": [
    {
     "name": "stdout",
     "output_type": "stream",
     "text": [
      "Fitting 3 folds for each of 2 candidates, totalling 6 fits\n"
     ]
    }
   ],
   "source": [
    "grid = GridSearchCV(classifier, params, cv=3, scoring= \"accuracy\", return_train_score=True,verbose=1)\n",
    "grid_search1 = grid.fit(x_train,y_train)"
   ]
  },
  {
   "cell_type": "code",
   "execution_count": 25,
   "metadata": {
    "colab": {
     "base_uri": "https://localhost:8080/"
    },
    "id": "9S5u6rCz_AJG",
    "outputId": "2c887b59-6078-4087-c1e0-b274f42f8bcf"
   },
   "outputs": [
    {
     "name": "stdout",
     "output_type": "stream",
     "text": [
      "0.9284750337381916\n",
      "{'max_features': 1}\n"
     ]
    }
   ],
   "source": [
    "print(grid.best_score_)\n",
    "print(grid.best_params_)"
   ]
  },
  {
   "cell_type": "code",
   "execution_count": 26,
   "metadata": {
    "colab": {
     "base_uri": "https://localhost:8080/"
    },
    "id": "3P_zcEaf_AJG",
    "outputId": "5c9e9952-9218-469a-b02c-4e1aac47d9d8"
   },
   "outputs": [
    {
     "data": {
      "text/plain": [
       "0.9139784946236559"
      ]
     },
     "execution_count": 26,
     "metadata": {},
     "output_type": "execute_result"
    }
   ],
   "source": [
    "y_pred = grid.predict(x_test)\n",
    "accuracy_score(y_test,y_pred)"
   ]
  },
  {
   "cell_type": "code",
   "execution_count": 27,
   "metadata": {},
   "outputs": [
    {
     "name": "stdout",
     "output_type": "stream",
     "text": [
      "[[85 11]\n",
      " [ 5 85]]\n"
     ]
    }
   ],
   "source": [
    "con_matrx = confusion_matrix(y_test, y_pred)\n",
    "print(con_matrx)"
   ]
  },
  {
   "cell_type": "markdown",
   "metadata": {},
   "source": [
    "### Modelling 50% of the data"
   ]
  },
  {
   "cell_type": "code",
   "execution_count": 28,
   "metadata": {
    "colab": {
     "base_uri": "https://localhost:8080/",
     "height": 402
    },
    "id": "0i_FBUMd_AJA",
    "outputId": "4fc8438b-7c01-4f63-a1c0-202709b822c7"
   },
   "outputs": [
    {
     "data": {
      "text/html": [
       "<div>\n",
       "<style scoped>\n",
       "    .dataframe tbody tr th:only-of-type {\n",
       "        vertical-align: middle;\n",
       "    }\n",
       "\n",
       "    .dataframe tbody tr th {\n",
       "        vertical-align: top;\n",
       "    }\n",
       "\n",
       "    .dataframe thead th {\n",
       "        text-align: right;\n",
       "    }\n",
       "</style>\n",
       "<table border=\"1\" class=\"dataframe\">\n",
       "  <thead>\n",
       "    <tr style=\"text-align: right;\">\n",
       "      <th></th>\n",
       "      <th>Quiz01 [10]</th>\n",
       "      <th>Assignment01 [8]</th>\n",
       "      <th>Midterm Exam [20]</th>\n",
       "      <th>Assignment02 [12]</th>\n",
       "    </tr>\n",
       "  </thead>\n",
       "  <tbody>\n",
       "    <tr>\n",
       "      <th>0</th>\n",
       "      <td>95</td>\n",
       "      <td>91</td>\n",
       "      <td>70</td>\n",
       "      <td>90</td>\n",
       "    </tr>\n",
       "    <tr>\n",
       "      <th>1</th>\n",
       "      <td>85</td>\n",
       "      <td>76</td>\n",
       "      <td>65</td>\n",
       "      <td>61</td>\n",
       "    </tr>\n",
       "    <tr>\n",
       "      <th>2</th>\n",
       "      <td>85</td>\n",
       "      <td>41</td>\n",
       "      <td>73</td>\n",
       "      <td>61</td>\n",
       "    </tr>\n",
       "    <tr>\n",
       "      <th>3</th>\n",
       "      <td>80</td>\n",
       "      <td>78</td>\n",
       "      <td>80</td>\n",
       "      <td>79</td>\n",
       "    </tr>\n",
       "    <tr>\n",
       "      <th>4</th>\n",
       "      <td>85</td>\n",
       "      <td>91</td>\n",
       "      <td>78</td>\n",
       "      <td>80</td>\n",
       "    </tr>\n",
       "    <tr>\n",
       "      <th>...</th>\n",
       "      <td>...</td>\n",
       "      <td>...</td>\n",
       "      <td>...</td>\n",
       "      <td>...</td>\n",
       "    </tr>\n",
       "    <tr>\n",
       "      <th>925</th>\n",
       "      <td>59</td>\n",
       "      <td>64</td>\n",
       "      <td>55</td>\n",
       "      <td>68</td>\n",
       "    </tr>\n",
       "    <tr>\n",
       "      <th>926</th>\n",
       "      <td>0</td>\n",
       "      <td>36</td>\n",
       "      <td>56</td>\n",
       "      <td>53</td>\n",
       "    </tr>\n",
       "    <tr>\n",
       "      <th>927</th>\n",
       "      <td>83</td>\n",
       "      <td>62</td>\n",
       "      <td>67</td>\n",
       "      <td>24</td>\n",
       "    </tr>\n",
       "    <tr>\n",
       "      <th>928</th>\n",
       "      <td>79</td>\n",
       "      <td>53</td>\n",
       "      <td>51</td>\n",
       "      <td>49</td>\n",
       "    </tr>\n",
       "    <tr>\n",
       "      <th>929</th>\n",
       "      <td>70</td>\n",
       "      <td>0</td>\n",
       "      <td>55</td>\n",
       "      <td>0</td>\n",
       "    </tr>\n",
       "  </tbody>\n",
       "</table>\n",
       "<p>930 rows × 4 columns</p>\n",
       "</div>"
      ],
      "text/plain": [
       "     Quiz01 [10]  Assignment01 [8]  Midterm Exam [20]  Assignment02 [12]\n",
       "0             95                91                 70                 90\n",
       "1             85                76                 65                 61\n",
       "2             85                41                 73                 61\n",
       "3             80                78                 80                 79\n",
       "4             85                91                 78                 80\n",
       "..           ...               ...                ...                ...\n",
       "925           59                64                 55                 68\n",
       "926            0                36                 56                 53\n",
       "927           83                62                 67                 24\n",
       "928           79                53                 51                 49\n",
       "929           70                 0                 55                  0\n",
       "\n",
       "[930 rows x 4 columns]"
      ]
     },
     "execution_count": 28,
     "metadata": {},
     "output_type": "execute_result"
    }
   ],
   "source": [
    "X_A_50 = X_S.iloc[:,:4]\n",
    "X_S_50"
   ]
  },
  {
   "cell_type": "code",
   "execution_count": 29,
   "metadata": {
    "id": "dWuNwrgs_AJE"
   },
   "outputs": [],
   "source": [
    "# Split dataset into training set and test set\n",
    "x_train, x_test, y_train, y_test = train_test_split(X_S_50,Y_S, test_size=0.2,random_state=100)"
   ]
  },
  {
   "cell_type": "code",
   "execution_count": 30,
   "metadata": {
    "id": "xM2j-sGe_AJF"
   },
   "outputs": [],
   "source": [
    "#random forest classifier and defining the max features (mtry) using params\n",
    "classifier = RandomForestClassifier()\n",
    "params = {'max_features':[i for i in range(1,5)] }"
   ]
  },
  {
   "cell_type": "code",
   "execution_count": 31,
   "metadata": {
    "colab": {
     "base_uri": "https://localhost:8080/"
    },
    "id": "_1_uxeda_AJF",
    "outputId": "b9ddc505-612a-4b19-c706-c0bc91b270da"
   },
   "outputs": [
    {
     "name": "stdout",
     "output_type": "stream",
     "text": [
      "Fitting 3 folds for each of 4 candidates, totalling 12 fits\n"
     ]
    }
   ],
   "source": [
    "grid = GridSearchCV(classifier, params, cv=3, scoring= \"accuracy\", return_train_score=True,verbose=1)\n",
    "grid_search1 = grid.fit(x_train,y_train)"
   ]
  },
  {
   "cell_type": "code",
   "execution_count": 32,
   "metadata": {
    "colab": {
     "base_uri": "https://localhost:8080/"
    },
    "id": "9S5u6rCz_AJG",
    "outputId": "2c887b59-6078-4087-c1e0-b274f42f8bcf"
   },
   "outputs": [
    {
     "name": "stdout",
     "output_type": "stream",
     "text": [
      "0.9879032258064516\n",
      "{'max_features': 1}\n"
     ]
    }
   ],
   "source": [
    "print(grid.best_score_)\n",
    "print(grid.best_params_)"
   ]
  },
  {
   "cell_type": "code",
   "execution_count": 33,
   "metadata": {
    "colab": {
     "base_uri": "https://localhost:8080/"
    },
    "id": "3P_zcEaf_AJG",
    "outputId": "5c9e9952-9218-469a-b02c-4e1aac47d9d8"
   },
   "outputs": [
    {
     "data": {
      "text/plain": [
       "0.967741935483871"
      ]
     },
     "execution_count": 33,
     "metadata": {},
     "output_type": "execute_result"
    }
   ],
   "source": [
    "y_pred = grid.predict(x_test)\n",
    "accuracy_score(y_test,y_pred)"
   ]
  },
  {
   "cell_type": "code",
   "execution_count": 34,
   "metadata": {},
   "outputs": [
    {
     "name": "stdout",
     "output_type": "stream",
     "text": [
      "[[88  2]\n",
      " [ 4 92]]\n"
     ]
    }
   ],
   "source": [
    "con_matrx = confusion_matrix(y_test, y_pred)\n",
    "print(con_matrx)"
   ]
  }
 ],
 "metadata": {
  "colab": {
   "provenance": []
  },
  "kernelspec": {
   "display_name": "Python 3 (ipykernel)",
   "language": "python",
   "name": "python3"
  },
  "language_info": {
   "codemirror_mode": {
    "name": "ipython",
    "version": 3
   },
   "file_extension": ".py",
   "mimetype": "text/x-python",
   "name": "python",
   "nbconvert_exporter": "python",
   "pygments_lexer": "ipython3",
   "version": "3.9.7"
  }
 },
 "nbformat": 4,
 "nbformat_minor": 1
}
